{
 "cells": [
  {
   "cell_type": "markdown",
   "metadata": {},
   "source": [
    "Start by importing the needed libraries"
   ]
  },
  {
   "cell_type": "code",
   "execution_count": 123,
   "metadata": {},
   "outputs": [],
   "source": [
    "import pandas as pd\n",
    "import seaborn as sns\n",
    "import matplotlib.pyplot as plt\n",
    "import numpy as np\n",
    "from datetime import datetime\n",
    "sns.set()"
   ]
  },
  {
   "cell_type": "markdown",
   "metadata": {},
   "source": [
    "Read in the data with pandas"
   ]
  },
  {
   "cell_type": "code",
   "execution_count": 127,
   "metadata": {},
   "outputs": [
    {
     "data": {
      "text/html": [
       "<div>\n",
       "<style scoped>\n",
       "    .dataframe tbody tr th:only-of-type {\n",
       "        vertical-align: middle;\n",
       "    }\n",
       "\n",
       "    .dataframe tbody tr th {\n",
       "        vertical-align: top;\n",
       "    }\n",
       "\n",
       "    .dataframe thead th {\n",
       "        text-align: right;\n",
       "    }\n",
       "</style>\n",
       "<table border=\"1\" class=\"dataframe\">\n",
       "  <thead>\n",
       "    <tr style=\"text-align: right;\">\n",
       "      <th></th>\n",
       "      <th>date</th>\n",
       "      <th>day_of_the_week</th>\n",
       "      <th>time</th>\n",
       "      <th>time_of_day</th>\n",
       "      <th>olney_secs</th>\n",
       "      <th>college_park_secs</th>\n",
       "      <th>olney_mins</th>\n",
       "      <th>college_park_mins</th>\n",
       "      <th>olney_hours</th>\n",
       "      <th>college_park_hours</th>\n",
       "    </tr>\n",
       "  </thead>\n",
       "  <tbody>\n",
       "    <tr>\n",
       "      <th>0</th>\n",
       "      <td>11/13/2019</td>\n",
       "      <td>Thursday</td>\n",
       "      <td>06:00:00</td>\n",
       "      <td>Morning</td>\n",
       "      <td>2398</td>\n",
       "      <td>2405</td>\n",
       "      <td>39.966667</td>\n",
       "      <td>40.083333</td>\n",
       "      <td>0.666111</td>\n",
       "      <td>0.668056</td>\n",
       "    </tr>\n",
       "    <tr>\n",
       "      <th>1</th>\n",
       "      <td>11/13/2019</td>\n",
       "      <td>Thursday</td>\n",
       "      <td>06:20:00</td>\n",
       "      <td>Morning</td>\n",
       "      <td>2555</td>\n",
       "      <td>2689</td>\n",
       "      <td>42.583333</td>\n",
       "      <td>44.816667</td>\n",
       "      <td>0.709722</td>\n",
       "      <td>0.746944</td>\n",
       "    </tr>\n",
       "    <tr>\n",
       "      <th>2</th>\n",
       "      <td>11/13/2019</td>\n",
       "      <td>Thursday</td>\n",
       "      <td>06:40:00</td>\n",
       "      <td>Morning</td>\n",
       "      <td>2850</td>\n",
       "      <td>2774</td>\n",
       "      <td>47.500000</td>\n",
       "      <td>46.233333</td>\n",
       "      <td>0.791667</td>\n",
       "      <td>0.770556</td>\n",
       "    </tr>\n",
       "    <tr>\n",
       "      <th>3</th>\n",
       "      <td>11/13/2019</td>\n",
       "      <td>Thursday</td>\n",
       "      <td>07:00:00</td>\n",
       "      <td>Morning</td>\n",
       "      <td>3217</td>\n",
       "      <td>3217</td>\n",
       "      <td>53.616667</td>\n",
       "      <td>53.616667</td>\n",
       "      <td>0.893611</td>\n",
       "      <td>0.893611</td>\n",
       "    </tr>\n",
       "    <tr>\n",
       "      <th>4</th>\n",
       "      <td>11/13/2019</td>\n",
       "      <td>Thursday</td>\n",
       "      <td>07:20:00</td>\n",
       "      <td>Morning</td>\n",
       "      <td>3127</td>\n",
       "      <td>3167</td>\n",
       "      <td>52.116667</td>\n",
       "      <td>52.783333</td>\n",
       "      <td>0.868611</td>\n",
       "      <td>0.879722</td>\n",
       "    </tr>\n",
       "  </tbody>\n",
       "</table>\n",
       "</div>"
      ],
      "text/plain": [
       "         date day_of_the_week      time time_of_day  olney_secs  \\\n",
       "0  11/13/2019        Thursday  06:00:00     Morning        2398   \n",
       "1  11/13/2019        Thursday  06:20:00     Morning        2555   \n",
       "2  11/13/2019        Thursday  06:40:00     Morning        2850   \n",
       "3  11/13/2019        Thursday  07:00:00     Morning        3217   \n",
       "4  11/13/2019        Thursday  07:20:00     Morning        3127   \n",
       "\n",
       "   college_park_secs  olney_mins  college_park_mins  olney_hours  \\\n",
       "0               2405   39.966667          40.083333     0.666111   \n",
       "1               2689   42.583333          44.816667     0.709722   \n",
       "2               2774   47.500000          46.233333     0.791667   \n",
       "3               3217   53.616667          53.616667     0.893611   \n",
       "4               3167   52.116667          52.783333     0.868611   \n",
       "\n",
       "   college_park_hours  \n",
       "0            0.668056  \n",
       "1            0.746944  \n",
       "2            0.770556  \n",
       "3            0.893611  \n",
       "4            0.879722  "
      ]
     },
     "execution_count": 127,
     "metadata": {},
     "output_type": "execute_result"
    }
   ],
   "source": [
    "data = pd.read_csv(\"data/drivingTimes.csv\")\n",
    "data['time'] = pd.to_datetime(data['time'], format='%H:%M').dt.time\n",
    "data.head()"
   ]
  },
  {
   "cell_type": "markdown",
   "metadata": {},
   "source": [
    "## Commuting from Olney"
   ]
  },
  {
   "cell_type": "markdown",
   "metadata": {},
   "source": [
    "Creating a dataset with just Olney time"
   ]
  },
  {
   "cell_type": "code",
   "execution_count": 129,
   "metadata": {},
   "outputs": [
    {
     "data": {
      "text/html": [
       "<div>\n",
       "<style scoped>\n",
       "    .dataframe tbody tr th:only-of-type {\n",
       "        vertical-align: middle;\n",
       "    }\n",
       "\n",
       "    .dataframe tbody tr th {\n",
       "        vertical-align: top;\n",
       "    }\n",
       "\n",
       "    .dataframe thead th {\n",
       "        text-align: right;\n",
       "    }\n",
       "</style>\n",
       "<table border=\"1\" class=\"dataframe\">\n",
       "  <thead>\n",
       "    <tr style=\"text-align: right;\">\n",
       "      <th></th>\n",
       "      <th>date</th>\n",
       "      <th>day_of_the_week</th>\n",
       "      <th>time</th>\n",
       "      <th>time_of_day</th>\n",
       "      <th>olney_secs</th>\n",
       "      <th>olney_mins</th>\n",
       "      <th>olney_hours</th>\n",
       "    </tr>\n",
       "  </thead>\n",
       "  <tbody>\n",
       "    <tr>\n",
       "      <th>0</th>\n",
       "      <td>11/13/2019</td>\n",
       "      <td>Thursday</td>\n",
       "      <td>06:00:00</td>\n",
       "      <td>Morning</td>\n",
       "      <td>2398</td>\n",
       "      <td>39.966667</td>\n",
       "      <td>0.666111</td>\n",
       "    </tr>\n",
       "    <tr>\n",
       "      <th>1</th>\n",
       "      <td>11/13/2019</td>\n",
       "      <td>Thursday</td>\n",
       "      <td>06:20:00</td>\n",
       "      <td>Morning</td>\n",
       "      <td>2555</td>\n",
       "      <td>42.583333</td>\n",
       "      <td>0.709722</td>\n",
       "    </tr>\n",
       "    <tr>\n",
       "      <th>2</th>\n",
       "      <td>11/13/2019</td>\n",
       "      <td>Thursday</td>\n",
       "      <td>06:40:00</td>\n",
       "      <td>Morning</td>\n",
       "      <td>2850</td>\n",
       "      <td>47.500000</td>\n",
       "      <td>0.791667</td>\n",
       "    </tr>\n",
       "    <tr>\n",
       "      <th>3</th>\n",
       "      <td>11/13/2019</td>\n",
       "      <td>Thursday</td>\n",
       "      <td>07:00:00</td>\n",
       "      <td>Morning</td>\n",
       "      <td>3217</td>\n",
       "      <td>53.616667</td>\n",
       "      <td>0.893611</td>\n",
       "    </tr>\n",
       "    <tr>\n",
       "      <th>4</th>\n",
       "      <td>11/13/2019</td>\n",
       "      <td>Thursday</td>\n",
       "      <td>07:20:00</td>\n",
       "      <td>Morning</td>\n",
       "      <td>3127</td>\n",
       "      <td>52.116667</td>\n",
       "      <td>0.868611</td>\n",
       "    </tr>\n",
       "  </tbody>\n",
       "</table>\n",
       "</div>"
      ],
      "text/plain": [
       "         date day_of_the_week      time time_of_day  olney_secs  olney_mins  \\\n",
       "0  11/13/2019        Thursday  06:00:00     Morning        2398   39.966667   \n",
       "1  11/13/2019        Thursday  06:20:00     Morning        2555   42.583333   \n",
       "2  11/13/2019        Thursday  06:40:00     Morning        2850   47.500000   \n",
       "3  11/13/2019        Thursday  07:00:00     Morning        3217   53.616667   \n",
       "4  11/13/2019        Thursday  07:20:00     Morning        3127   52.116667   \n",
       "\n",
       "   olney_hours  \n",
       "0     0.666111  \n",
       "1     0.709722  \n",
       "2     0.791667  \n",
       "3     0.893611  \n",
       "4     0.868611  "
      ]
     },
     "execution_count": 129,
     "metadata": {},
     "output_type": "execute_result"
    }
   ],
   "source": [
    "data_olney = data.loc[:,[\"date\", \"day_of_the_week\", 'time', 'time_of_day', 'olney_secs', 'olney_mins', 'olney_hours']]\n",
    "data_olney.head()"
   ]
  },
  {
   "cell_type": "markdown",
   "metadata": {},
   "source": [
    "What is the average time communting from Olney?"
   ]
  },
  {
   "cell_type": "code",
   "execution_count": 130,
   "metadata": {},
   "outputs": [
    {
     "data": {
      "text/html": [
       "<div>\n",
       "<style scoped>\n",
       "    .dataframe tbody tr th:only-of-type {\n",
       "        vertical-align: middle;\n",
       "    }\n",
       "\n",
       "    .dataframe tbody tr th {\n",
       "        vertical-align: top;\n",
       "    }\n",
       "\n",
       "    .dataframe thead th {\n",
       "        text-align: right;\n",
       "    }\n",
       "</style>\n",
       "<table border=\"1\" class=\"dataframe\">\n",
       "  <thead>\n",
       "    <tr style=\"text-align: right;\">\n",
       "      <th></th>\n",
       "      <th>olney_mins</th>\n",
       "    </tr>\n",
       "    <tr>\n",
       "      <th>time_of_day</th>\n",
       "      <th></th>\n",
       "    </tr>\n",
       "  </thead>\n",
       "  <tbody>\n",
       "    <tr>\n",
       "      <th>Evening</th>\n",
       "      <td>65.175096</td>\n",
       "    </tr>\n",
       "    <tr>\n",
       "      <th>Morning</th>\n",
       "      <td>50.419676</td>\n",
       "    </tr>\n",
       "  </tbody>\n",
       "</table>\n",
       "</div>"
      ],
      "text/plain": [
       "             olney_mins\n",
       "time_of_day            \n",
       "Evening       65.175096\n",
       "Morning       50.419676"
      ]
     },
     "execution_count": 130,
     "metadata": {},
     "output_type": "execute_result"
    }
   ],
   "source": [
    "data_olney.loc[:,[\"olney_mins\", 'time_of_day']].groupby('time_of_day').mean()"
   ]
  },
  {
   "cell_type": "markdown",
   "metadata": {},
   "source": [
    "What is the average time in the morning if I leave at 7?"
   ]
  },
  {
   "cell_type": "code",
   "execution_count": 134,
   "metadata": {},
   "outputs": [
    {
     "data": {
      "text/plain": [
       "olney_mins    50.419444\n",
       "dtype: float64"
      ]
     },
     "execution_count": 134,
     "metadata": {},
     "output_type": "execute_result"
    }
   ],
   "source": [
    "data_olney.loc[data_olney['time'] == datetime.strptime(\"7:00:00\",\"%H:%M:%S\").time()].loc[:,[\"olney_mins\"]].mean()"
   ]
  },
  {
   "cell_type": "markdown",
   "metadata": {},
   "source": [
    "What is the average time in the evening if I leave at 4?"
   ]
  },
  {
   "cell_type": "code",
   "execution_count": 135,
   "metadata": {},
   "outputs": [
    {
     "data": {
      "text/plain": [
       "olney_mins    68.983333\n",
       "dtype: float64"
      ]
     },
     "execution_count": 135,
     "metadata": {},
     "output_type": "execute_result"
    }
   ],
   "source": [
    "data_olney.loc[data_olney['time'] == datetime.strptime(\"16:00:00\",\"%H:%M:%S\").time()].loc[:,[\"olney_mins\"]].mean()"
   ]
  },
  {
   "cell_type": "markdown",
   "metadata": {},
   "source": [
    "What is the best time to go to work in the morning?"
   ]
  },
  {
   "cell_type": "code",
   "execution_count": 154,
   "metadata": {},
   "outputs": [
    {
     "data": {
      "text/html": [
       "<div>\n",
       "<style scoped>\n",
       "    .dataframe tbody tr th:only-of-type {\n",
       "        vertical-align: middle;\n",
       "    }\n",
       "\n",
       "    .dataframe tbody tr th {\n",
       "        vertical-align: top;\n",
       "    }\n",
       "\n",
       "    .dataframe thead th {\n",
       "        text-align: right;\n",
       "    }\n",
       "</style>\n",
       "<table border=\"1\" class=\"dataframe\">\n",
       "  <thead>\n",
       "    <tr style=\"text-align: right;\">\n",
       "      <th></th>\n",
       "      <th>olney_mins</th>\n",
       "    </tr>\n",
       "    <tr>\n",
       "      <th>time</th>\n",
       "      <th></th>\n",
       "    </tr>\n",
       "  </thead>\n",
       "  <tbody>\n",
       "    <tr>\n",
       "      <th>06:00:00</th>\n",
       "      <td>39.694444</td>\n",
       "    </tr>\n",
       "    <tr>\n",
       "      <th>06:20:00</th>\n",
       "      <td>42.580556</td>\n",
       "    </tr>\n",
       "    <tr>\n",
       "      <th>06:40:00</th>\n",
       "      <td>45.616667</td>\n",
       "    </tr>\n",
       "    <tr>\n",
       "      <th>07:00:00</th>\n",
       "      <td>50.419444</td>\n",
       "    </tr>\n",
       "    <tr>\n",
       "      <th>07:20:00</th>\n",
       "      <td>53.533333</td>\n",
       "    </tr>\n",
       "    <tr>\n",
       "      <th>07:40:00</th>\n",
       "      <td>57.150000</td>\n",
       "    </tr>\n",
       "    <tr>\n",
       "      <th>08:00:00</th>\n",
       "      <td>57.958333</td>\n",
       "    </tr>\n",
       "    <tr>\n",
       "      <th>08:20:00</th>\n",
       "      <td>56.083333</td>\n",
       "    </tr>\n",
       "    <tr>\n",
       "      <th>08:40:00</th>\n",
       "      <td>53.741667</td>\n",
       "    </tr>\n",
       "    <tr>\n",
       "      <th>09:00:00</th>\n",
       "      <td>51.616667</td>\n",
       "    </tr>\n",
       "    <tr>\n",
       "      <th>09:20:00</th>\n",
       "      <td>48.780556</td>\n",
       "    </tr>\n",
       "    <tr>\n",
       "      <th>09:40:00</th>\n",
       "      <td>47.861111</td>\n",
       "    </tr>\n",
       "  </tbody>\n",
       "</table>\n",
       "</div>"
      ],
      "text/plain": [
       "          olney_mins\n",
       "time                \n",
       "06:00:00   39.694444\n",
       "06:20:00   42.580556\n",
       "06:40:00   45.616667\n",
       "07:00:00   50.419444\n",
       "07:20:00   53.533333\n",
       "07:40:00   57.150000\n",
       "08:00:00   57.958333\n",
       "08:20:00   56.083333\n",
       "08:40:00   53.741667\n",
       "09:00:00   51.616667\n",
       "09:20:00   48.780556\n",
       "09:40:00   47.861111"
      ]
     },
     "metadata": {},
     "output_type": "display_data"
    },
    {
     "data": {
      "text/plain": [
       "olney_mins    39.694444\n",
       "Name: 06:00:00, dtype: float64"
      ]
     },
     "execution_count": 154,
     "metadata": {},
     "output_type": "execute_result"
    }
   ],
   "source": [
    "avg_morning_time = data.loc[data_olney['time_of_day'] == \"Morning\"].loc[:,[\"olney_mins\", 'time']].groupby('time').mean()\n",
    "display(avg_morning_time)\n",
    "avg_morning_time.loc[avg_morning_time['olney_mins'].idxmin()]"
   ]
  },
  {
   "cell_type": "markdown",
   "metadata": {},
   "source": [
    "What is the best time to go home?"
   ]
  },
  {
   "cell_type": "code",
   "execution_count": 155,
   "metadata": {},
   "outputs": [
    {
     "data": {
      "text/html": [
       "<div>\n",
       "<style scoped>\n",
       "    .dataframe tbody tr th:only-of-type {\n",
       "        vertical-align: middle;\n",
       "    }\n",
       "\n",
       "    .dataframe tbody tr th {\n",
       "        vertical-align: top;\n",
       "    }\n",
       "\n",
       "    .dataframe thead th {\n",
       "        text-align: right;\n",
       "    }\n",
       "</style>\n",
       "<table border=\"1\" class=\"dataframe\">\n",
       "  <thead>\n",
       "    <tr style=\"text-align: right;\">\n",
       "      <th></th>\n",
       "      <th>olney_mins</th>\n",
       "    </tr>\n",
       "    <tr>\n",
       "      <th>time</th>\n",
       "      <th></th>\n",
       "    </tr>\n",
       "  </thead>\n",
       "  <tbody>\n",
       "    <tr>\n",
       "      <th>15:00:00</th>\n",
       "      <td>57.758333</td>\n",
       "    </tr>\n",
       "    <tr>\n",
       "      <th>15:20:00</th>\n",
       "      <td>61.533333</td>\n",
       "    </tr>\n",
       "    <tr>\n",
       "      <th>15:40:00</th>\n",
       "      <td>64.044444</td>\n",
       "    </tr>\n",
       "    <tr>\n",
       "      <th>16:00:00</th>\n",
       "      <td>68.983333</td>\n",
       "    </tr>\n",
       "    <tr>\n",
       "      <th>16:20:00</th>\n",
       "      <td>72.438889</td>\n",
       "    </tr>\n",
       "    <tr>\n",
       "      <th>16:40:00</th>\n",
       "      <td>73.641667</td>\n",
       "    </tr>\n",
       "    <tr>\n",
       "      <th>17:00:00</th>\n",
       "      <td>73.819444</td>\n",
       "    </tr>\n",
       "    <tr>\n",
       "      <th>17:20:00</th>\n",
       "      <td>73.727778</td>\n",
       "    </tr>\n",
       "    <tr>\n",
       "      <th>17:40:00</th>\n",
       "      <td>74.305556</td>\n",
       "    </tr>\n",
       "    <tr>\n",
       "      <th>18:00:00</th>\n",
       "      <td>71.505556</td>\n",
       "    </tr>\n",
       "    <tr>\n",
       "      <th>18:20:00</th>\n",
       "      <td>66.808333</td>\n",
       "    </tr>\n",
       "    <tr>\n",
       "      <th>18:40:00</th>\n",
       "      <td>61.336111</td>\n",
       "    </tr>\n",
       "    <tr>\n",
       "      <th>19:00:00</th>\n",
       "      <td>53.256667</td>\n",
       "    </tr>\n",
       "    <tr>\n",
       "      <th>19:20:00</th>\n",
       "      <td>50.256667</td>\n",
       "    </tr>\n",
       "    <tr>\n",
       "      <th>19:40:00</th>\n",
       "      <td>46.650000</td>\n",
       "    </tr>\n",
       "  </tbody>\n",
       "</table>\n",
       "</div>"
      ],
      "text/plain": [
       "          olney_mins\n",
       "time                \n",
       "15:00:00   57.758333\n",
       "15:20:00   61.533333\n",
       "15:40:00   64.044444\n",
       "16:00:00   68.983333\n",
       "16:20:00   72.438889\n",
       "16:40:00   73.641667\n",
       "17:00:00   73.819444\n",
       "17:20:00   73.727778\n",
       "17:40:00   74.305556\n",
       "18:00:00   71.505556\n",
       "18:20:00   66.808333\n",
       "18:40:00   61.336111\n",
       "19:00:00   53.256667\n",
       "19:20:00   50.256667\n",
       "19:40:00   46.650000"
      ]
     },
     "metadata": {},
     "output_type": "display_data"
    },
    {
     "data": {
      "text/plain": [
       "olney_mins    46.65\n",
       "Name: 19:40:00, dtype: float64"
      ]
     },
     "execution_count": 155,
     "metadata": {},
     "output_type": "execute_result"
    }
   ],
   "source": [
    "avg_evening_time = data.loc[data_olney['time_of_day'] == \"Evening\"].loc[:,[\"olney_mins\", 'time']].groupby('time').mean()\n",
    "display(avg_evening_time)\n",
    "avg_evening_time.loc[avg_evening_time['olney_mins'].idxmin()]"
   ]
  },
  {
   "cell_type": "markdown",
   "metadata": {},
   "source": [
    "## Comparing the two"
   ]
  },
  {
   "cell_type": "markdown",
   "metadata": {},
   "source": [
    "First, we will look at some overall averages"
   ]
  },
  {
   "cell_type": "code",
   "execution_count": 90,
   "metadata": {},
   "outputs": [
    {
     "data": {
      "text/html": [
       "<div>\n",
       "<style scoped>\n",
       "    .dataframe tbody tr th:only-of-type {\n",
       "        vertical-align: middle;\n",
       "    }\n",
       "\n",
       "    .dataframe tbody tr th {\n",
       "        vertical-align: top;\n",
       "    }\n",
       "\n",
       "    .dataframe thead th {\n",
       "        text-align: right;\n",
       "    }\n",
       "</style>\n",
       "<table border=\"1\" class=\"dataframe\">\n",
       "  <thead>\n",
       "    <tr style=\"text-align: right;\">\n",
       "      <th></th>\n",
       "      <th>olney_mins</th>\n",
       "      <th>college_park_mins</th>\n",
       "    </tr>\n",
       "    <tr>\n",
       "      <th>time_of_day</th>\n",
       "      <th></th>\n",
       "      <th></th>\n",
       "    </tr>\n",
       "  </thead>\n",
       "  <tbody>\n",
       "    <tr>\n",
       "      <th>Evening</th>\n",
       "      <td>65.175096</td>\n",
       "      <td>62.277011</td>\n",
       "    </tr>\n",
       "    <tr>\n",
       "      <th>Morning</th>\n",
       "      <td>50.419676</td>\n",
       "      <td>46.596065</td>\n",
       "    </tr>\n",
       "  </tbody>\n",
       "</table>\n",
       "</div>"
      ],
      "text/plain": [
       "             olney_mins  college_park_mins\n",
       "time_of_day                               \n",
       "Evening       65.175096          62.277011\n",
       "Morning       50.419676          46.596065"
      ]
     },
     "execution_count": 90,
     "metadata": {},
     "output_type": "execute_result"
    }
   ],
   "source": [
    "data.loc[:,[\"olney_mins\", \"college_park_mins\", 'time_of_day']].groupby('time_of_day').mean()"
   ]
  },
  {
   "cell_type": "markdown",
   "metadata": {},
   "source": [
    "The averages by the day of the week"
   ]
  },
  {
   "cell_type": "code",
   "execution_count": 91,
   "metadata": {},
   "outputs": [
    {
     "data": {
      "text/html": [
       "<div>\n",
       "<style scoped>\n",
       "    .dataframe tbody tr th:only-of-type {\n",
       "        vertical-align: middle;\n",
       "    }\n",
       "\n",
       "    .dataframe tbody tr th {\n",
       "        vertical-align: top;\n",
       "    }\n",
       "\n",
       "    .dataframe thead th {\n",
       "        text-align: right;\n",
       "    }\n",
       "</style>\n",
       "<table border=\"1\" class=\"dataframe\">\n",
       "  <thead>\n",
       "    <tr style=\"text-align: right;\">\n",
       "      <th></th>\n",
       "      <th></th>\n",
       "      <th>olney_mins</th>\n",
       "      <th>college_park_mins</th>\n",
       "    </tr>\n",
       "    <tr>\n",
       "      <th>time_of_day</th>\n",
       "      <th>day_of_the_week</th>\n",
       "      <th></th>\n",
       "      <th></th>\n",
       "    </tr>\n",
       "  </thead>\n",
       "  <tbody>\n",
       "    <tr>\n",
       "      <th rowspan=\"5\" valign=\"top\">Evening</th>\n",
       "      <th>Friday</th>\n",
       "      <td>70.672222</td>\n",
       "      <td>69.857778</td>\n",
       "    </tr>\n",
       "    <tr>\n",
       "      <th>Monday</th>\n",
       "      <td>45.442222</td>\n",
       "      <td>37.492222</td>\n",
       "    </tr>\n",
       "    <tr>\n",
       "      <th>Thursday</th>\n",
       "      <td>75.659877</td>\n",
       "      <td>74.193827</td>\n",
       "    </tr>\n",
       "    <tr>\n",
       "      <th>Tuesday</th>\n",
       "      <td>55.544444</td>\n",
       "      <td>52.623333</td>\n",
       "    </tr>\n",
       "    <tr>\n",
       "      <th>Wednesday</th>\n",
       "      <td>70.168889</td>\n",
       "      <td>67.684444</td>\n",
       "    </tr>\n",
       "    <tr>\n",
       "      <th rowspan=\"5\" valign=\"top\">Morning</th>\n",
       "      <th>Friday</th>\n",
       "      <td>52.983333</td>\n",
       "      <td>49.994444</td>\n",
       "    </tr>\n",
       "    <tr>\n",
       "      <th>Monday</th>\n",
       "      <td>36.922222</td>\n",
       "      <td>27.655556</td>\n",
       "    </tr>\n",
       "    <tr>\n",
       "      <th>Thursday</th>\n",
       "      <td>52.656250</td>\n",
       "      <td>50.372222</td>\n",
       "    </tr>\n",
       "    <tr>\n",
       "      <th>Tuesday</th>\n",
       "      <td>51.588889</td>\n",
       "      <td>48.220833</td>\n",
       "    </tr>\n",
       "    <tr>\n",
       "      <th>Wednesday</th>\n",
       "      <td>55.711111</td>\n",
       "      <td>52.961111</td>\n",
       "    </tr>\n",
       "  </tbody>\n",
       "</table>\n",
       "</div>"
      ],
      "text/plain": [
       "                             olney_mins  college_park_mins\n",
       "time_of_day day_of_the_week                               \n",
       "Evening     Friday            70.672222          69.857778\n",
       "            Monday            45.442222          37.492222\n",
       "            Thursday          75.659877          74.193827\n",
       "            Tuesday           55.544444          52.623333\n",
       "            Wednesday         70.168889          67.684444\n",
       "Morning     Friday            52.983333          49.994444\n",
       "            Monday            36.922222          27.655556\n",
       "            Thursday          52.656250          50.372222\n",
       "            Tuesday           51.588889          48.220833\n",
       "            Wednesday         55.711111          52.961111"
      ]
     },
     "metadata": {},
     "output_type": "display_data"
    }
   ],
   "source": [
    "day_week_mean = data.loc[:,[\"olney_mins\", \"college_park_mins\", 'time_of_day', 'day_of_the_week']].groupby(['time_of_day', 'day_of_the_week']).mean()\n",
    "display(day_week_mean) \n",
    "day_week_mean = day_week_mean.reset_index()"
   ]
  },
  {
   "cell_type": "code",
   "execution_count": 92,
   "metadata": {},
   "outputs": [
    {
     "data": {
      "image/png": "[encoded data removed]",
      "text/plain": [
       "<Figure size 432x288 with 1 Axes>"
      ]
     },
     "metadata": {},
     "output_type": "display_data"
    },
    {
     "data": {
      "image/png": "[encoded data removed]",
      "text/plain": [
       "<Figure size 432x288 with 1 Axes>"
      ]
     },
     "metadata": {},
     "output_type": "display_data"
    }
   ],
   "source": [
    "day_week_mean_morning = pd.melt(day_week_mean.loc[day_week_mean['time_of_day'] == \"Morning\"], id_vars=['time_of_day', \"day_of_the_week\"], var_name=\"place\", value_name=\"minutes\")\n",
    "fig, ax1 = plt.subplots()\n",
    "g = sns.barplot(x='day_of_the_week', y='minutes', data=day_week_mean_morning, ax=ax1, hue=\"place\")\n",
    "\n",
    "# Create a second y-axis with the scaled ticks\n",
    "ax1.set_ylabel('Minutes')\n",
    "\n",
    "plt.show()\n",
    "\n",
    "day_week_mean_evening = pd.melt(day_week_mean.loc[day_week_mean['time_of_day'] == \"Evening\"], id_vars=['time_of_day', \"day_of_the_week\"], var_name=\"place\", value_name=\"minutes\")\n",
    "fig, ax1 = plt.subplots()\n",
    "g = sns.barplot(x='day_of_the_week', y='minutes', data=day_week_mean_evening, ax=ax1, hue=\"place\")\n",
    "\n",
    "# Create a second y-axis with the scaled ticks\n",
    "ax1.set_ylabel('Minutes')\n",
    "\n",
    "plt.show()"
   ]
  },
  {
   "cell_type": "markdown",
   "metadata": {},
   "source": [
    "The averages by time"
   ]
  },
  {
   "cell_type": "code",
   "execution_count": 96,
   "metadata": {},
   "outputs": [
    {
     "data": {
      "text/html": [
       "<div>\n",
       "<style scoped>\n",
       "    .dataframe tbody tr th:only-of-type {\n",
       "        vertical-align: middle;\n",
       "    }\n",
       "\n",
       "    .dataframe tbody tr th {\n",
       "        vertical-align: top;\n",
       "    }\n",
       "\n",
       "    .dataframe thead th {\n",
       "        text-align: right;\n",
       "    }\n",
       "</style>\n",
       "<table border=\"1\" class=\"dataframe\">\n",
       "  <thead>\n",
       "    <tr style=\"text-align: right;\">\n",
       "      <th></th>\n",
       "      <th></th>\n",
       "      <th>olney_mins</th>\n",
       "      <th>college_park_mins</th>\n",
       "    </tr>\n",
       "    <tr>\n",
       "      <th>time_of_day</th>\n",
       "      <th>time</th>\n",
       "      <th></th>\n",
       "      <th></th>\n",
       "    </tr>\n",
       "  </thead>\n",
       "  <tbody>\n",
       "    <tr>\n",
       "      <th rowspan=\"15\" valign=\"top\">Evening</th>\n",
       "      <th>03:00:00</th>\n",
       "      <td>57.758333</td>\n",
       "      <td>55.605556</td>\n",
       "    </tr>\n",
       "    <tr>\n",
       "      <th>03:20:00</th>\n",
       "      <td>61.533333</td>\n",
       "      <td>61.952778</td>\n",
       "    </tr>\n",
       "    <tr>\n",
       "      <th>03:40:00</th>\n",
       "      <td>64.044444</td>\n",
       "      <td>63.516667</td>\n",
       "    </tr>\n",
       "    <tr>\n",
       "      <th>04:00:00</th>\n",
       "      <td>68.983333</td>\n",
       "      <td>67.472222</td>\n",
       "    </tr>\n",
       "    <tr>\n",
       "      <th>04:20:00</th>\n",
       "      <td>72.438889</td>\n",
       "      <td>69.225000</td>\n",
       "    </tr>\n",
       "    <tr>\n",
       "      <th>04:40:00</th>\n",
       "      <td>73.641667</td>\n",
       "      <td>68.888889</td>\n",
       "    </tr>\n",
       "    <tr>\n",
       "      <th>05:00:00</th>\n",
       "      <td>73.819444</td>\n",
       "      <td>72.419444</td>\n",
       "    </tr>\n",
       "    <tr>\n",
       "      <th>05:20:00</th>\n",
       "      <td>73.727778</td>\n",
       "      <td>72.919444</td>\n",
       "    </tr>\n",
       "    <tr>\n",
       "      <th>05:40:00</th>\n",
       "      <td>74.305556</td>\n",
       "      <td>74.258333</td>\n",
       "    </tr>\n",
       "    <tr>\n",
       "      <th>06:00:00</th>\n",
       "      <td>71.505556</td>\n",
       "      <td>69.286111</td>\n",
       "    </tr>\n",
       "    <tr>\n",
       "      <th>06:20:00</th>\n",
       "      <td>66.808333</td>\n",
       "      <td>63.219444</td>\n",
       "    </tr>\n",
       "    <tr>\n",
       "      <th>06:40:00</th>\n",
       "      <td>61.336111</td>\n",
       "      <td>58.366667</td>\n",
       "    </tr>\n",
       "    <tr>\n",
       "      <th>07:00:00</th>\n",
       "      <td>53.256667</td>\n",
       "      <td>46.760000</td>\n",
       "    </tr>\n",
       "    <tr>\n",
       "      <th>07:20:00</th>\n",
       "      <td>50.256667</td>\n",
       "      <td>42.116667</td>\n",
       "    </tr>\n",
       "    <tr>\n",
       "      <th>07:40:00</th>\n",
       "      <td>46.650000</td>\n",
       "      <td>38.186667</td>\n",
       "    </tr>\n",
       "    <tr>\n",
       "      <th rowspan=\"12\" valign=\"top\">Morning</th>\n",
       "      <th>06:00:00</th>\n",
       "      <td>39.694444</td>\n",
       "      <td>38.055556</td>\n",
       "    </tr>\n",
       "    <tr>\n",
       "      <th>06:20:00</th>\n",
       "      <td>42.580556</td>\n",
       "      <td>41.288889</td>\n",
       "    </tr>\n",
       "    <tr>\n",
       "      <th>06:40:00</th>\n",
       "      <td>45.616667</td>\n",
       "      <td>42.913889</td>\n",
       "    </tr>\n",
       "    <tr>\n",
       "      <th>07:00:00</th>\n",
       "      <td>50.419444</td>\n",
       "      <td>47.252778</td>\n",
       "    </tr>\n",
       "    <tr>\n",
       "      <th>07:20:00</th>\n",
       "      <td>53.533333</td>\n",
       "      <td>49.988889</td>\n",
       "    </tr>\n",
       "    <tr>\n",
       "      <th>07:40:00</th>\n",
       "      <td>57.150000</td>\n",
       "      <td>49.786111</td>\n",
       "    </tr>\n",
       "    <tr>\n",
       "      <th>08:00:00</th>\n",
       "      <td>57.958333</td>\n",
       "      <td>52.819444</td>\n",
       "    </tr>\n",
       "    <tr>\n",
       "      <th>08:20:00</th>\n",
       "      <td>56.083333</td>\n",
       "      <td>50.655556</td>\n",
       "    </tr>\n",
       "    <tr>\n",
       "      <th>08:40:00</th>\n",
       "      <td>53.741667</td>\n",
       "      <td>51.525000</td>\n",
       "    </tr>\n",
       "    <tr>\n",
       "      <th>09:00:00</th>\n",
       "      <td>51.616667</td>\n",
       "      <td>49.536111</td>\n",
       "    </tr>\n",
       "    <tr>\n",
       "      <th>09:20:00</th>\n",
       "      <td>48.780556</td>\n",
       "      <td>44.561111</td>\n",
       "    </tr>\n",
       "    <tr>\n",
       "      <th>09:40:00</th>\n",
       "      <td>47.861111</td>\n",
       "      <td>40.769444</td>\n",
       "    </tr>\n",
       "  </tbody>\n",
       "</table>\n",
       "</div>"
      ],
      "text/plain": [
       "                      olney_mins  college_park_mins\n",
       "time_of_day time                                   \n",
       "Evening     03:00:00   57.758333          55.605556\n",
       "            03:20:00   61.533333          61.952778\n",
       "            03:40:00   64.044444          63.516667\n",
       "            04:00:00   68.983333          67.472222\n",
       "            04:20:00   72.438889          69.225000\n",
       "            04:40:00   73.641667          68.888889\n",
       "            05:00:00   73.819444          72.419444\n",
       "            05:20:00   73.727778          72.919444\n",
       "            05:40:00   74.305556          74.258333\n",
       "            06:00:00   71.505556          69.286111\n",
       "            06:20:00   66.808333          63.219444\n",
       "            06:40:00   61.336111          58.366667\n",
       "            07:00:00   53.256667          46.760000\n",
       "            07:20:00   50.256667          42.116667\n",
       "            07:40:00   46.650000          38.186667\n",
       "Morning     06:00:00   39.694444          38.055556\n",
       "            06:20:00   42.580556          41.288889\n",
       "            06:40:00   45.616667          42.913889\n",
       "            07:00:00   50.419444          47.252778\n",
       "            07:20:00   53.533333          49.988889\n",
       "            07:40:00   57.150000          49.786111\n",
       "            08:00:00   57.958333          52.819444\n",
       "            08:20:00   56.083333          50.655556\n",
       "            08:40:00   53.741667          51.525000\n",
       "            09:00:00   51.616667          49.536111\n",
       "            09:20:00   48.780556          44.561111\n",
       "            09:40:00   47.861111          40.769444"
      ]
     },
     "metadata": {},
     "output_type": "display_data"
    }
   ],
   "source": [
    "day_time_mean = data.loc[:,[\"olney_mins\", \"college_park_mins\", 'time_of_day', 'time']].groupby(['time_of_day', 'time']).mean()\n",
    "display(day_time_mean) \n",
    "day_time_mean = day_time_mean.reset_index()"
   ]
  },
  {
   "cell_type": "code",
   "execution_count": 95,
   "metadata": {},
   "outputs": [
    {
     "data": {
      "image/png": "[encoded data removed]",
      "text/plain": [
       "<Figure size 1008x595.44 with 1 Axes>"
      ]
     },
     "metadata": {},
     "output_type": "display_data"
    },
    {
     "data": {
      "image/png": "[encoded data removed]",
      "text/plain": [
       "<Figure size 1008x595.44 with 1 Axes>"
      ]
     },
     "metadata": {},
     "output_type": "display_data"
    }
   ],
   "source": [
    "time_order_morning = [\"6:00\", \"6:20\", \"6:40\", \"7:00\", \"7:20\", \"7:40\", \"8:00\", \"8:20\", \"8:40\", \"9:00\", \"9:20\", \"9:40\", \"10:00\", \"10:20\", \"10:40\"]\n",
    "day_time_mean_morning = pd.melt(day_time_mean.loc[day_time_mean['time_of_day'] == \"Morning\"], id_vars=['time_of_day', \"time\"], var_name=\"place\", value_name=\"minutes\")\n",
    "\n",
    "fig, ax1 = plt.subplots(figsize=(14, 8.27))\n",
    "g = sns.lineplot(x='time', y='minutes', data=day_time_mean_morning, ax=ax1, hue=\"place\", sort=True)\n",
    "\n",
    "# Create a second y-axis with the scaled ticks\n",
    "ax1.set_ylabel('Minutes')\n",
    "\n",
    "\n",
    "plt.show()\n",
    "\n",
    "day_time_mean_evening = pd.melt(day_time_mean.loc[day_time_mean['time_of_day'] == \"Evening\"], id_vars=['time_of_day', \"time\"], var_name=\"place\", value_name=\"minutes\")\n",
    "fig, ax1 = plt.subplots(figsize=(14, 8.27))\n",
    "g = sns.lineplot(x='time', y='minutes', data=day_time_mean_evening, ax=ax1, hue=\"place\", sort=True)\n",
    "\n",
    "# Create a second y-axis with the scaled ticks\n",
    "ax1.set_ylabel('Minutes')\n",
    "\n",
    "plt.show()"
   ]
  },
  {
   "cell_type": "code",
   "execution_count": null,
   "metadata": {},
   "outputs": [],
   "source": []
  }
 ],
 "metadata": {
  "kernelspec": {
   "display_name": "Python 3",
   "language": "python",
   "name": "python3"
  },
  "language_info": {
   "codemirror_mode": {
    "name": "ipython",
    "version": 3
   },
   "file_extension": ".py",
   "mimetype": "text/x-python",
   "name": "python",
   "nbconvert_exporter": "python",
   "pygments_lexer": "ipython3",
   "version": "3.7.3"
  }
 },
 "nbformat": 4,
 "nbformat_minor": 4
}
